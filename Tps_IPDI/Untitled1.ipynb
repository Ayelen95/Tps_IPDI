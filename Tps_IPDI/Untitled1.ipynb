{
 "cells": [
  {
   "cell_type": "code",
   "execution_count": 4,
   "id": "d97d1a0c-53b8-4fa6-bb90-a51431ffb334",
   "metadata": {},
   "outputs": [],
   "source": [
    "import tkinter as tk\n",
    "class Application(tk.Frame):\n",
    "    def __init__(self, master=None):\n",
    "        super().__init__(master)\n",
    "        self.pack()\n",
    "        self.create_widgets()\n",
    "\n",
    "    def create_widgets(self):\n",
    "        self.hi_there = tk.Button(self)\n",
    "        self.hi_there[\"text\"] = \"Hello World\\n(click me)\"\n",
    "        self.hi_there[\"command\"] = self.say_hi\n",
    "        self.hi_there.pack(side=\"top\")\n",
    "\n",
    "        self.quit = tk.Button(self, text=\"QUIT\", fg=\"red\",\n",
    "                              command=root.destroy)\n",
    "        self.quit.pack(side=\"bottom\")\n",
    "\n",
    "    def say_hi(self):\n",
    "        print(\"hi there, everyone!\") \n",
    "\n",
    "root = tk.Tk()\n",
    "app = Application(master=root)\n",
    "app.mainloop()"
   ]
  },
  {
   "cell_type": "code",
   "execution_count": 7,
   "id": "f6056b75-5eef-439a-a3b1-6fd72386f8e3",
   "metadata": {},
   "outputs": [],
   "source": [
    "from tkinter import messagebox, ttk\n",
    "import tkinter as tk\n",
    "class Application(tk.Frame):\n",
    "    \n",
    "    def __init__(self, main_window):\n",
    "        super().__init__(main_window)\n",
    "        main_window.title(\"Combobox\")\n",
    "        self.combo = ttk.Combobox(\n",
    "            self,\n",
    "            state=\"readonly\",\n",
    "            values=[\"Python\", \"C\", \"C++\", \"Java\"]\n",
    "        )\n",
    "        self.combo.place(x=50, y=50)\n",
    "        self.button = ttk.Button(\n",
    "            text=\"Mostrar selección\",\n",
    "            command=self.show_selection\n",
    "        )\n",
    "        self.button.place(x=50, y=100)\n",
    "        main_window.config(width=300, height=200)\n",
    "        self.place(width=300, height=200)\n",
    "    def show_selection(self):\n",
    "        # Obtener la opción seleccionada.\n",
    "        selection = self.combo.get()\n",
    "        messagebox.showinfo(\n",
    "            message=f\"La opción seleccionada es: {selection}\",\n",
    "            title=\"Selección\"\n",
    "        )\n",
    "main_window = tk.Tk()\n",
    "app = Application(main_window)\n",
    "app.mainloop()"
   ]
  }
 ],
 "metadata": {
  "kernelspec": {
   "display_name": "Python 3 (ipykernel)",
   "language": "python",
   "name": "python3"
  },
  "language_info": {
   "codemirror_mode": {
    "name": "ipython",
    "version": 3
   },
   "file_extension": ".py",
   "mimetype": "text/x-python",
   "name": "python",
   "nbconvert_exporter": "python",
   "pygments_lexer": "ipython3",
   "version": "3.8.13"
  },
  "toc-autonumbering": false,
  "toc-showtags": false
 },
 "nbformat": 4,
 "nbformat_minor": 5
}
